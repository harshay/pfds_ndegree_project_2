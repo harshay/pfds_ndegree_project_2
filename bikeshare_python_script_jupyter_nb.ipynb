{
 "cells": [
  {
   "cell_type": "code",
   "execution_count": 1,
   "id": "a604ab78",
   "metadata": {},
   "outputs": [],
   "source": [
    "import time\n",
    "import pandas as pd\n",
    "import numpy as np \n",
    "\n"
   ]
  },
  {
   "cell_type": "code",
   "execution_count": 2,
   "id": "c5066c04",
   "metadata": {},
   "outputs": [],
   "source": [
    "CITY_DATA = { 'chicago': 'chicago.csv',\n",
    "              'new york city': 'new_york_city.csv',\n",
    "              'washington': 'washington.csv' }"
   ]
  },
  {
   "cell_type": "code",
   "execution_count": 24,
   "id": "b44be1c5",
   "metadata": {},
   "outputs": [],
   "source": [
    "months = ['january', 'february', 'march', 'april', 'may', 'june','all']\n",
    "\n",
    "days = ['monday', 'tuesday', 'wednesday', 'thursday', 'friday', 'saturday','sunday','all'] "
   ]
  },
  {
   "cell_type": "code",
   "execution_count": 9,
   "id": "3ca9089c",
   "metadata": {},
   "outputs": [],
   "source": [
    "# ************************* done do NOT change*********************************\n",
    "# ************************* done do NOT change*********************************\n",
    "\n",
    "def get_filters():\n",
    "     \n",
    "    print('Hello! Let\\'s explore some US bikeshare data!')\n",
    "    # get user input for city (chicago, new york city, washington).\n",
    "    city  = input(\"Enter the name of the city that you would like to view the stats for : \").lower().strip()\n",
    "    \n",
    "    while city not in ['chicago', 'new york city', 'washington']: \n",
    "        city = input(\"This city does not exist in the database! Enter another city name : \").lower().strip()\n",
    "\n",
    "    # get user input for month (all, january, february, ... , june)\n",
    "    month = input(\"Enter the month for which you would like to view the stats. Enter 'all' to view all months : \").lower().strip()\n",
    "    while month not in months: \n",
    "        month = input(\"This month does not exist in the database! Enter another month or enter 'all' to view all months : \").lower().strip()\n",
    "        \n",
    "    # get user input for day of week (all, monday, tuesday, ... sunday)\n",
    "    day = input(\"Enter the day of the week that you would like to view the stats for : \").lower().strip()\n",
    "    while day not in days: \n",
    "        day = input(\"This day does not exist! Enter another day or enter 'all' to view all days :\").lower().strip()\n",
    "\n",
    "    print('-'*40)\n",
    "    return city, month, day\n",
    "\n",
    "# ************************* done do NOT change*********************************\n",
    "# ************************* done do NOT change*********************************"
   ]
  },
  {
   "cell_type": "code",
   "execution_count": 18,
   "id": "070088eb",
   "metadata": {},
   "outputs": [
    {
     "name": "stdout",
     "output_type": "stream",
     "text": [
      "Hello! Let's explore some US bikeshare data!\n",
      "Enter the name of the city that you would like to view the stats for : chicago\n",
      "Enter the month for which you would like to view the stats. Enter 'all' to view all months : march\n",
      "Enter the day of the week that you would like to view the stats for : sunday\n",
      "----------------------------------------\n"
     ]
    }
   ],
   "source": [
    "city, month, day = get_filters()"
   ]
  },
  {
   "cell_type": "code",
   "execution_count": 19,
   "id": "a537f841",
   "metadata": {},
   "outputs": [
    {
     "data": {
      "text/plain": [
       "'sunday'"
      ]
     },
     "execution_count": 19,
     "metadata": {},
     "output_type": "execute_result"
    }
   ],
   "source": [
    "day"
   ]
  },
  {
   "cell_type": "code",
   "execution_count": 20,
   "id": "2cc1de97",
   "metadata": {},
   "outputs": [
    {
     "data": {
      "text/plain": [
       "'march'"
      ]
     },
     "execution_count": 20,
     "metadata": {},
     "output_type": "execute_result"
    }
   ],
   "source": [
    "month"
   ]
  },
  {
   "cell_type": "code",
   "execution_count": 21,
   "id": "2bacb138",
   "metadata": {},
   "outputs": [
    {
     "data": {
      "text/plain": [
       "'chicago'"
      ]
     },
     "execution_count": 21,
     "metadata": {},
     "output_type": "execute_result"
    }
   ],
   "source": [
    "city"
   ]
  },
  {
   "cell_type": "code",
   "execution_count": 25,
   "id": "269c3fdd",
   "metadata": {},
   "outputs": [
    {
     "data": {
      "text/plain": [
       "['january', 'february', 'march', 'april', 'may', 'june', 'all']"
      ]
     },
     "execution_count": 25,
     "metadata": {},
     "output_type": "execute_result"
    }
   ],
   "source": [
    "months"
   ]
  },
  {
   "cell_type": "code",
   "execution_count": 26,
   "id": "de29483b",
   "metadata": {},
   "outputs": [
    {
     "data": {
      "text/plain": [
       "['monday',\n",
       " 'tuesday',\n",
       " 'wednesday',\n",
       " 'thursday',\n",
       " 'friday',\n",
       " 'saturday',\n",
       " 'sunday',\n",
       " 'all']"
      ]
     },
     "execution_count": 26,
     "metadata": {},
     "output_type": "execute_result"
    }
   ],
   "source": [
    "days"
   ]
  },
  {
   "cell_type": "code",
   "execution_count": 27,
   "id": "b134ef8a",
   "metadata": {},
   "outputs": [],
   "source": [
    "# ************************* done do NOT change*********************************\n",
    "# ************************* done do NOT change*********************************\n",
    "\n",
    "import pandas as pd\n",
    "\n",
    "CITY_DATA = { 'chicago': 'chicago.csv',\n",
    "              'new york city': 'new_york_city.csv',\n",
    "              'washington': 'washington.csv' }\n",
    "\n",
    "def load_data(city, month, day):\n",
    "    \"\"\"\n",
    "    Loads data for the specified city and filters by month and day if applicable.\n",
    "\n",
    "    Args:\n",
    "        (str) city - name of the city to analyze\n",
    "        (str) month - name of the month to filter by, or \"all\" to apply no month filter\n",
    "        (str) day - name of the day of week to filter by, or \"all\" to apply no day filter\n",
    "    Returns:\n",
    "        df - pandas DataFrame containing city data filtered by month and day\n",
    "    \"\"\"\n",
    "     \n",
    "    # load data file into a dataframe\n",
    "    df = pd.read_csv(CITY_DATA[city.lower().strip()]) \n",
    "\n",
    "    # convert the Start Time column to datetime\n",
    "    df['Start Time'] = pd.to_datetime(df['Start Time'])\n",
    "    \n",
    "    # convert the End Time column to datetime\n",
    "    df['End Time'] = pd.to_datetime(df['End Time'])\n",
    "    \n",
    "\n",
    "    #create new columns\n",
    "    df['month'] = df['Start Time'].dt.month #month\n",
    "    df['day_of_week'] = df['Start Time'].dt.dayofweek #day of the week\n",
    "    df['start_hour'] = df['Start Time'].dt.hour #start hour\n",
    "    df['start_end_station'] = df[\"Start Station\"] + ' - ' + df[\"End Station\"] #combined start and end station combination\n",
    "    df['trip_duration_minutes'] = df['Trip Duration']/60 #trip duration in minutes\n",
    "    \n",
    "    # filter by month if applicable\n",
    "    if month != 'all':\n",
    "        month_str = months.index(month) + 1    \n",
    "        # filter by month to create the new dataframe\n",
    "        df = df.loc[df['month'] == month_str]\n",
    "\n",
    "    # filter by day of week if applicable\n",
    "    if day != 'all':\n",
    "        day_str = days.index(day)\n",
    "        # filter by day of week to create the new dataframe\n",
    "        df = df.loc[df['day_of_week'] == day_str]\n",
    "        \n",
    "    \n",
    "    return df\n",
    "\n",
    "\n",
    "# ************************* done do NOT change*********************************\n",
    "# ************************* done do NOT change*********************************"
   ]
  },
  {
   "cell_type": "code",
   "execution_count": 28,
   "id": "c5b8f267",
   "metadata": {},
   "outputs": [],
   "source": [
    "df = load_data(city, month, day)"
   ]
  },
  {
   "cell_type": "code",
   "execution_count": 29,
   "id": "e89c9fd0",
   "metadata": {},
   "outputs": [
    {
     "data": {
      "text/html": [
       "<div>\n",
       "<style scoped>\n",
       "    .dataframe tbody tr th:only-of-type {\n",
       "        vertical-align: middle;\n",
       "    }\n",
       "\n",
       "    .dataframe tbody tr th {\n",
       "        vertical-align: top;\n",
       "    }\n",
       "\n",
       "    .dataframe thead th {\n",
       "        text-align: right;\n",
       "    }\n",
       "</style>\n",
       "<table border=\"1\" class=\"dataframe\">\n",
       "  <thead>\n",
       "    <tr style=\"text-align: right;\">\n",
       "      <th></th>\n",
       "      <th>Unnamed: 0</th>\n",
       "      <th>Start Time</th>\n",
       "      <th>End Time</th>\n",
       "      <th>Trip Duration</th>\n",
       "      <th>Start Station</th>\n",
       "      <th>End Station</th>\n",
       "      <th>User Type</th>\n",
       "      <th>Gender</th>\n",
       "      <th>Birth Year</th>\n",
       "      <th>month</th>\n",
       "      <th>day_of_week</th>\n",
       "      <th>start_hour</th>\n",
       "      <th>start_end_station</th>\n",
       "      <th>trip_duration_minutes</th>\n",
       "    </tr>\n",
       "  </thead>\n",
       "  <tbody>\n",
       "    <tr>\n",
       "      <th>63</th>\n",
       "      <td>402097</td>\n",
       "      <td>2017-03-26 11:40:10</td>\n",
       "      <td>2017-03-26 11:47:05</td>\n",
       "      <td>415</td>\n",
       "      <td>McClurg Ct &amp; Erie St</td>\n",
       "      <td>Field Blvd &amp; South Water St</td>\n",
       "      <td>Subscriber</td>\n",
       "      <td>Male</td>\n",
       "      <td>1964.0</td>\n",
       "      <td>3</td>\n",
       "      <td>6</td>\n",
       "      <td>11</td>\n",
       "      <td>McClurg Ct &amp; Erie St - Field Blvd &amp; South Wate...</td>\n",
       "      <td>6.916667</td>\n",
       "    </tr>\n",
       "    <tr>\n",
       "      <th>82</th>\n",
       "      <td>364649</td>\n",
       "      <td>2017-03-19 22:39:20</td>\n",
       "      <td>2017-03-19 23:16:01</td>\n",
       "      <td>2201</td>\n",
       "      <td>Sheridan Rd &amp; Montrose Ave</td>\n",
       "      <td>Clarendon Ave &amp; Junior Ter</td>\n",
       "      <td>Subscriber</td>\n",
       "      <td>Female</td>\n",
       "      <td>1977.0</td>\n",
       "      <td>3</td>\n",
       "      <td>6</td>\n",
       "      <td>22</td>\n",
       "      <td>Sheridan Rd &amp; Montrose Ave - Clarendon Ave &amp; J...</td>\n",
       "      <td>36.683333</td>\n",
       "    </tr>\n",
       "    <tr>\n",
       "      <th>164</th>\n",
       "      <td>298198</td>\n",
       "      <td>2017-03-05 13:21:22</td>\n",
       "      <td>2017-03-05 13:33:15</td>\n",
       "      <td>713</td>\n",
       "      <td>Kingsbury St &amp; Kinzie St</td>\n",
       "      <td>Aberdeen St &amp; Monroe St</td>\n",
       "      <td>Subscriber</td>\n",
       "      <td>Female</td>\n",
       "      <td>1988.0</td>\n",
       "      <td>3</td>\n",
       "      <td>6</td>\n",
       "      <td>13</td>\n",
       "      <td>Kingsbury St &amp; Kinzie St - Aberdeen St &amp; Monro...</td>\n",
       "      <td>11.883333</td>\n",
       "    </tr>\n",
       "    <tr>\n",
       "      <th>274</th>\n",
       "      <td>298949</td>\n",
       "      <td>2017-03-05 14:45:06</td>\n",
       "      <td>2017-03-05 15:03:34</td>\n",
       "      <td>1108</td>\n",
       "      <td>Sheffield Ave &amp; Wellington Ave</td>\n",
       "      <td>Wood St &amp; Milwaukee Ave</td>\n",
       "      <td>Subscriber</td>\n",
       "      <td>Female</td>\n",
       "      <td>1982.0</td>\n",
       "      <td>3</td>\n",
       "      <td>6</td>\n",
       "      <td>14</td>\n",
       "      <td>Sheffield Ave &amp; Wellington Ave - Wood St &amp; Mil...</td>\n",
       "      <td>18.466667</td>\n",
       "    </tr>\n",
       "    <tr>\n",
       "      <th>319</th>\n",
       "      <td>296895</td>\n",
       "      <td>2017-03-05 10:20:47</td>\n",
       "      <td>2017-03-05 10:36:20</td>\n",
       "      <td>933</td>\n",
       "      <td>Marshfield Ave &amp; Cortland St</td>\n",
       "      <td>Troy St &amp; North Ave</td>\n",
       "      <td>Subscriber</td>\n",
       "      <td>Male</td>\n",
       "      <td>1982.0</td>\n",
       "      <td>3</td>\n",
       "      <td>6</td>\n",
       "      <td>10</td>\n",
       "      <td>Marshfield Ave &amp; Cortland St - Troy St &amp; North...</td>\n",
       "      <td>15.550000</td>\n",
       "    </tr>\n",
       "  </tbody>\n",
       "</table>\n",
       "</div>"
      ],
      "text/plain": [
       "     Unnamed: 0          Start Time            End Time  Trip Duration  \\\n",
       "63       402097 2017-03-26 11:40:10 2017-03-26 11:47:05            415   \n",
       "82       364649 2017-03-19 22:39:20 2017-03-19 23:16:01           2201   \n",
       "164      298198 2017-03-05 13:21:22 2017-03-05 13:33:15            713   \n",
       "274      298949 2017-03-05 14:45:06 2017-03-05 15:03:34           1108   \n",
       "319      296895 2017-03-05 10:20:47 2017-03-05 10:36:20            933   \n",
       "\n",
       "                      Start Station                  End Station   User Type  \\\n",
       "63             McClurg Ct & Erie St  Field Blvd & South Water St  Subscriber   \n",
       "82       Sheridan Rd & Montrose Ave   Clarendon Ave & Junior Ter  Subscriber   \n",
       "164        Kingsbury St & Kinzie St      Aberdeen St & Monroe St  Subscriber   \n",
       "274  Sheffield Ave & Wellington Ave      Wood St & Milwaukee Ave  Subscriber   \n",
       "319    Marshfield Ave & Cortland St          Troy St & North Ave  Subscriber   \n",
       "\n",
       "     Gender  Birth Year  month  day_of_week  start_hour  \\\n",
       "63     Male      1964.0      3            6          11   \n",
       "82   Female      1977.0      3            6          22   \n",
       "164  Female      1988.0      3            6          13   \n",
       "274  Female      1982.0      3            6          14   \n",
       "319    Male      1982.0      3            6          10   \n",
       "\n",
       "                                     start_end_station  trip_duration_minutes  \n",
       "63   McClurg Ct & Erie St - Field Blvd & South Wate...               6.916667  \n",
       "82   Sheridan Rd & Montrose Ave - Clarendon Ave & J...              36.683333  \n",
       "164  Kingsbury St & Kinzie St - Aberdeen St & Monro...              11.883333  \n",
       "274  Sheffield Ave & Wellington Ave - Wood St & Mil...              18.466667  \n",
       "319  Marshfield Ave & Cortland St - Troy St & North...              15.550000  "
      ]
     },
     "execution_count": 29,
     "metadata": {},
     "output_type": "execute_result"
    }
   ],
   "source": [
    "df.head()"
   ]
  },
  {
   "cell_type": "code",
   "execution_count": 16,
   "id": "6d3a605a",
   "metadata": {},
   "outputs": [],
   "source": [
    " #"
   ]
  },
  {
   "cell_type": "code",
   "execution_count": 31,
   "id": "186a84fa",
   "metadata": {},
   "outputs": [],
   "source": [
    "\n",
    "# ************************* done do NOT change*********************************\n",
    "# ************************* done do NOT change*********************************\n",
    "\n",
    "def time_stats(df):\n",
    "    \"\"\"Displays statistics on the most frequent times of travel.\"\"\"\n",
    "\n",
    "    print('\\nCalculating The Most Frequent Times of Travel...\\n')\n",
    "    start_time = time.time()\n",
    "\n",
    "    # display the most common month\n",
    "    print('The most common month of travel is : ' + months[(df.loc[:,\"month\"].mode()[0])-1].title()) \n",
    "\n",
    "    # display the most common day of week\n",
    "    print('The most common day of travel is : ' + days[(df.loc[:,\"day_of_week\"].mode()[0])].title())\n",
    "\n",
    "    # display the most common start hour\n",
    "    print('The most common start hour is : ' + str(df.loc[:,\"start_hour\"].mode()[0]))\n",
    "\n",
    "    print(\"\\nThis took %s seconds.\" % (time.time() - start_time))\n",
    "    print('-'*40)\n",
    "\n",
    "# ************************* done do NOT change*********************************    \n",
    "# ************************* done do NOT change*********************************\n",
    "\n",
    " "
   ]
  },
  {
   "cell_type": "code",
   "execution_count": 32,
   "id": "c881eeeb",
   "metadata": {},
   "outputs": [
    {
     "name": "stdout",
     "output_type": "stream",
     "text": [
      "\n",
      "Calculating The Most Frequent Times of Travel...\n",
      "\n",
      "The most common month of travel is : March\n",
      "The most common day of travel is : Sunday\n",
      "The most common start hour is : 15\n",
      "\n",
      "This took 0.0019927024841308594 seconds.\n",
      "----------------------------------------\n"
     ]
    }
   ],
   "source": [
    "time_stats(df)"
   ]
  },
  {
   "cell_type": "code",
   "execution_count": 33,
   "id": "914e1026",
   "metadata": {},
   "outputs": [],
   "source": [
    "\n",
    "# ************************* done do NOT change*********************************    \n",
    "# ************************* done do NOT change*********************************\n",
    "\n",
    "def station_stats(df):\n",
    "    \"\"\"Displays statistics on the most popular stations and trip.\"\"\"\n",
    "\n",
    "    print('\\nCalculating The Most Popular Stations and Trip...\\n')\n",
    "    start_time = time.time()\n",
    "    \n",
    "    # display most commonly used start station\n",
    "    print('The most commonly used start station is : ' + (df.loc[:,\"Start Station\"].mode()[0]).title()) \n",
    "\n",
    "     # display most commonly used end station\n",
    "    print('The most commonly used end station is : ' + (df.loc[:,\"End Station\"].mode()[0]).title()) \n",
    "\n",
    "    # display most frequent combination of start station and end station trip\n",
    "    print('The most commonly used end station is : ' + (df.loc[:,\"start_end_station\"].mode()[0]).title()) \n",
    "\n",
    "    print(\"\\nThis took %s seconds.\" % (time.time() - start_time))\n",
    "    print('-'*40)\n",
    "\n",
    "    \n",
    "# ************************* done do NOT change*********************************    \n",
    "# ************************* done do NOT change********************************* "
   ]
  },
  {
   "cell_type": "code",
   "execution_count": 34,
   "id": "59c750eb",
   "metadata": {},
   "outputs": [
    {
     "name": "stdout",
     "output_type": "stream",
     "text": [
      "\n",
      "Calculating The Most Popular Stations and Trip...\n",
      "\n",
      "The most commonly used start station is : Streeter Dr & Grand Ave\n",
      "The most commonly used end station is : Streeter Dr & Grand Ave\n",
      "The most commonly used end station is : Calumet Ave & 33Rd St - State St & 33Rd St\n",
      "\n",
      "This took 0.0029900074005126953 seconds.\n",
      "----------------------------------------\n"
     ]
    }
   ],
   "source": [
    "station_stats(df)"
   ]
  },
  {
   "cell_type": "code",
   "execution_count": 35,
   "id": "c403cc51",
   "metadata": {},
   "outputs": [],
   "source": [
    "    \n",
    "# ************************* done do NOT change*********************************    \n",
    "# ************************* done do NOT change********************************* \n",
    "\n",
    "def trip_duration_stats(df):\n",
    "    \"\"\"Displays statistics on the total and average trip duration.\"\"\"\n",
    "\n",
    "    print('\\nCalculating Trip Duration...\\n')\n",
    "    start_time = time.time()\n",
    "\n",
    "    # display total travel time\n",
    "    print('Total travel time in minutes is ' + str(df['trip_duration_minutes'].sum()))\n",
    "\n",
    "\n",
    "    # display mean travel time\n",
    "    print('mean traveltime per trip in minutes is ' + str(df['trip_duration_minutes'].mean()))\n",
    "\n",
    "\n",
    "    print(\"\\nThis took %s seconds.\" % (time.time() - start_time))\n",
    "    print('-'*40)\n",
    "\n",
    "         \n",
    "# ************************* done do NOT change*********************************    \n",
    "# ************************* done do NOT change********************************* "
   ]
  },
  {
   "cell_type": "code",
   "execution_count": 36,
   "id": "48c9b740",
   "metadata": {},
   "outputs": [
    {
     "name": "stdout",
     "output_type": "stream",
     "text": [
      "\n",
      "Calculating Trip Duration...\n",
      "\n",
      "Total travel time in minutes is 45724.38333333333\n",
      "mean traveltime per trip in minutes is 15.568397457723277\n",
      "\n",
      "This took 0.0 seconds.\n",
      "----------------------------------------\n"
     ]
    }
   ],
   "source": [
    "trip_duration_stats(df)"
   ]
  },
  {
   "cell_type": "code",
   "execution_count": 37,
   "id": "75c87cc8",
   "metadata": {},
   "outputs": [],
   "source": [
    "# ************************* done do NOT change*********************************    \n",
    "# ************************* done do NOT change********************************* \n",
    "def user_stats(df):\n",
    "    \"\"\"Displays statistics on bikeshare users.\"\"\"\n",
    "\n",
    "    print('\\nCalculating User Stats...\\n')\n",
    "    start_time = time.time()\n",
    "    \n",
    "    \n",
    "    print('Counts of user types : \\n') \n",
    "    # Display counts of user types\n",
    "    print(df['User Type'].value_counts())\n",
    "\n",
    "    print('\\nCounts of gender : \\n') \n",
    "    # Display counts of gender\n",
    "    print(df['Gender'].value_counts()) \n",
    "\n",
    "    # Display earliest year of birth \n",
    "    print('\\nThe earliest year of birth is : ' + str(df['Birth Year'].min()))\n",
    "     \n",
    "    # Display most recent year of birth\n",
    "    print('\\nThe most recent year of birth is : ' + str(df['Birth Year'].max()))    \n",
    "    \n",
    "    # Display most common year of birth\n",
    "    print('\\nThe most common year of birth is : ' + str(df['Birth Year'].mode()))  \n",
    " \n",
    "\n",
    "    print(\"\\nThis took %s seconds.\" % (time.time() - start_time))\n",
    "    print('-'*40)\n",
    "# ************************* done do NOT change*********************************    \n",
    "# ************************* done do NOT change********************************* "
   ]
  },
  {
   "cell_type": "code",
   "execution_count": 38,
   "id": "9a365c2f",
   "metadata": {},
   "outputs": [
    {
     "name": "stdout",
     "output_type": "stream",
     "text": [
      "\n",
      "Calculating User Stats...\n",
      "\n",
      "Counts of user types : \n",
      "\n",
      "Subscriber    2290\n",
      "Customer       647\n",
      "Name: User Type, dtype: int64\n",
      "\n",
      "Counts of gender : \n",
      "\n",
      "Male      1640\n",
      "Female     650\n",
      "Name: Gender, dtype: int64\n",
      "\n",
      "The earliest year of birth is : 1899.0\n",
      "\n",
      "The most recent year of birth is : 1999.0\n",
      "\n",
      "The most common year of birth is : 0    1989.0\n",
      "Name: Birth Year, dtype: float64\n",
      "\n",
      "This took 0.0019931793212890625 seconds.\n",
      "----------------------------------------\n"
     ]
    }
   ],
   "source": [
    "user_stats(df)"
   ]
  },
  {
   "cell_type": "code",
   "execution_count": null,
   "id": "1a85c95c",
   "metadata": {},
   "outputs": [],
   "source": [
    "# function , then while loop to always display first 5 rows, break when user enters no\n",
    "\n",
    "#def display_selected_data(df):\n",
    "    \n",
    "    "
   ]
  }
 ],
 "metadata": {
  "kernelspec": {
   "display_name": "Python 3 (ipykernel)",
   "language": "python",
   "name": "python3"
  },
  "language_info": {
   "codemirror_mode": {
    "name": "ipython",
    "version": 3
   },
   "file_extension": ".py",
   "mimetype": "text/x-python",
   "name": "python",
   "nbconvert_exporter": "python",
   "pygments_lexer": "ipython3",
   "version": "3.9.7"
  }
 },
 "nbformat": 4,
 "nbformat_minor": 5
}
